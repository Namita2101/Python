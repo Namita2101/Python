   "source": [
    "# 3. Create a empty dictionary d1 ask user to enter the values using comprehensive list\n",
    "d1 = {}\n",
    "while True:\n",
    "    key = input(\"Enter key: \")\n",
    "    if key == 'stop':  \n",
    "        break\n",
    "    value = input(f\"Enter value for key '{key}': \")\n",
    "    d1[key] = value  \n",
    "print('Final dictionary:', d1)"
   ]
  },
  {
   "cell_type": "code",
   "execution_count": null,
   "metadata": {},
   "outputs": [],
   "source": [
    "# 4. Create a function which will accept two integer or float parameter \n",
    "# from user and return 4 arithmetic operations in the form of tuple. \n",
    "# If user pass argument other than integer and float then error should be created\n",
    "\n",
    "def arithmetic_operations(a,b):\n",
    "    if isinstance(a,(float,int)) and isinstance(b,(float,int)):\n",
    "        return (a+b,a-b,a*b,a/b)\n",
    "    else:\n",
    "        raise ValueError(\"Both inputs must be integers or floats\")\n",
    "    "
   ]
  },
  {
   "cell_type": "code",
   "execution_count": null,
   "metadata": {},
   "outputs": [
    {
     "name": "stdout",
     "output_type": "stream",
     "text": [
      "(8.0, 0.0, 16.0, 1.0)\n"
     ]
    }
   ],
   "source": [
    "a = int(input(\"Enter first number: \"))\n",
    "b = int(input(\"Enter second number: \"))\n",
    "try:\n",
    "    a, b = float(a), float(b)  \n",
    "    print(arithmetic_operations(a, b))\n",
    "except ValueError:\n",
    "    print(\"Error: Invalid input. Please enter numeric values.\")"
   ]
  },
  {
   "cell_type": "code",
   "execution_count": 24,
   "metadata": {},
   "outputs": [],
   "source": [
    "# 5. Based on the above function (Question number 4) dived the outcome of multiplication by 2.\n",
    "def arithmetic_operations_2(a,b):\n",
    "    if isinstance(a,(float,int)) and isinstance(b,(float,int)):\n",
    "        return (a+b,a-b,(a*b)/2,a/b)\n",
    "    else:\n",
    "        raise ValueError(\"Both inputs must be integers or floats\")\n",
    "    "
   ]
  },
  {
   "cell_type": "code",
   "execution_count": 25,
   "metadata": {},
   "outputs": [
    {
     "name": "stdout",
     "output_type": "stream",
     "text": [
      "(8.0, 0.0, 8.0, 1.0)\n"
     ]
    }
   ],
   "source": [
    "a = int(input(\"Enter first number: \"))\n",
    "b = int(input(\"Enter second number: \"))\n",
    "try:\n",
    "    a, b = float(a), float(b)  \n",
    "    print(arithmetic_operations_2(a, b))\n",
    "except ValueError:\n",
    "    print(\"Error: Invalid input. Please enter numeric values.\")"
   ]
  },
  {
   "cell_type": "code",
   "execution_count": null,
   "metadata": {},
   "outputs": [
    {
     "name": "stdout",
     "output_type": "stream",
     "text": [
      "['apple', 'banana', 'orange', 'kiwi', 'grape']\n"
     ]
    }
   ],
   "source": [
    "# 6. create a function to add only string element in a list. if other than string display the appropriate message.\n",
    "\n",
    "def add_string(lst):\n",
    "    new_list = []\n",
    "    for i in lst:\n",
    "        if isinstance(i, str):\n",
    "            new_list.append(i)\n",
    "    return new_list\n",
    "\n",
    "my_list = [1, \"apple\", \"banana\", 2, \"orange\", \"kiwi\", 3, \"grape\"]\n",
    "result = add_string(my_list)\n",
    "print(result)\n"
   ]
  },
  {
   "cell_type": "code",
   "execution_count": 34,
   "metadata": {},
   "outputs": [
    {
     "name": "stdout",
     "output_type": "stream",
     "text": [
      "{'Total Lines': 17, 'Total Words': 199}\n"
     ]
    }
   ],
   "source": [
    "# 7. Create a function to read the file and return the dictionary of total lines, total words\n",
    "\n",
    "def file_read_dict(file_path):\n",
    "    try:\n",
    "        with open(file_path, 'r') as f:\n",
    "            lines = f.readlines()\n",
    "            total_lines = len(lines)\n",
    "            total_words = sum(len(line.split()) for line in lines)\n",
    "            return {'Total Lines': total_lines, 'Total Words': total_words}\n",
    "    except FileNotFoundError:\n",
    "        return f\"File '{file_path}' not found.\"\n",
    "    \n",
    "file_path = \"D:\\\\BIZMETRIC\\\\sql_question.txt\"\n",
    "result = file_read_dict(file_path)\n",
    "print(result)"
   ]
  },
  {
   "cell_type": "code",
   "execution_count": null,
   "metadata": {},
   "outputs": [
    {
     "name": "stdout",
     "output_type": "stream",
     "text": [
      "Name: John\n",
      "Age: 30\n",
      "City: New York\n"
     ]
    }
   ],
   "source": [
    "# 8. Create a function which will accept the dictionary and display key values in separate line.\n",
    "\n",
    "def display_dict_values(dictionary):\n",
    "    for key, value in dictionary.items():\n",
    "        print(f\"{key}: {value}\")\n",
    "\n",
    "my_dict = {\"Name\": \"John\", \"Age\": 30, \"City\": \"New York\"}\n",
    "display_dict_values(my_dict)\n"
   ]
  },
  {
   "cell_type": "code",
   "execution_count": null,
   "metadata": {},
   "outputs": [],
   "source": [
    "# 9. Create a lambda function which will accept the dictionary and display key values in separate line.\n"
   ]
  },
  {
   "cell_type": "code",
   "execution_count": null,
   "metadata": {},
   "outputs": [
    {
     "name": "stdout",
     "output_type": "stream",
     "text": [
      "Password is valid.\n"
     ]
    }
   ],
   "source": [
    "# 10. Create a function to validate the password: password should contains at least one small letter, one capital letter, one number, and one special character except comma, quotes\n",
    "# use Regular expression to validate the password\n",
    "\n",
    "import re\n",
    "\n",
    "def validate_password(password):\n",
    "    if not re.search('[a-z0-9A-Z!@#$%^&*()_+=\\-{}[\\]:;<.>?/~]', password):\n",
    "        return \"Password must contain at least one special character except comma, quotes.\"\n",
    "    return \"Password is valid.\"\n",
    "password = input(\"enter password\")\n",
    "print(validate_password(password))\n"
   ]
  },
  {
   "cell_type": "code",
   "execution_count": null,
   "metadata": {},
   "outputs": [
    {
     "data": {
      "text/plain": [
       "<function __main__.natural_numbers_only.<locals>.wrappper(n)>"
      ]
     },
     "execution_count": 48,
     "metadata": {},
     "output_type": "execute_result"
    }
   ],
   "source": [
    "# 11. Generate a decorator having logic to accept natural numbers . which can be used in a function of factorial\n",
    "\n",
    "def natural_numbers_only(fact):\n",
    "    def wrappper(n):\n",
    "        if n > 0:\n",
    "            return \n",
    "        else:\n",
    "            return False\n",
    "    return wrappper\n",
    "        \n",
    "natural_numbers_only(10)"
   ]
  },
  {
   "cell_type": "code",
   "execution_count": 53,
   "metadata": {},
   "outputs": [
    {
     "name": "stdout",
     "output_type": "stream",
     "text": [
      "True\n"
     ]
    }
   ],
   "source": [
    "@natural_numbers_only\n",
    "def factorial(n):\n",
    "    if n == 0:\n",
    "        return 1\n",
    "    else:\n",
    "        return n * factorial(n-1)\n",
    "    \n",
    "print(factorial(5))  # should return 120"
   ]
  },
  {
   "cell_type": "code",
   "execution_count": 50,
   "metadata": {},
   "outputs": [
    {
     "data": {
      "text/plain": [
       "True"
      ]
     },
     "execution_count": 50,
     "metadata": {},
     "output_type": "execute_result"
    }
   ],
   "source": [
    "factorial(4)"
   ]
  },
  {
   "cell_type": "code",
   "execution_count": null,
   "metadata": {},
   "outputs": [],
   "source": [
    "# 12. Generate the decorator for a Garden visit to check if current time is between 7am to 7pm.\n",
    "# If true the only call the function else generate the error.\n",
    "# a. Function payment_check() is active only within given time span and it will check for all user transaction in that given month.\n",
    "# b. Function entry() will be perform entry transaction of the use\n",
    "# c. Function exit() will update the outtime of the user if entry exists"
   ]
  },
  {
   "cell_type": "code",
   "execution_count": 6,
   "metadata": {},
   "outputs": [
    {
     "name": "stdout",
     "output_type": "stream",
     "text": [
      "['Nam', 'Nik', 'Om', 'Ram', 'Sai']\n"
     ]
    }
   ],
   "source": [
    "# 13. Create lambda function for sorting of the string\n",
    "\n",
    "string_list = [\"Om\", \"Sai\", \"Ram\", \"Nik\", \"Nam\"]\n",
    "sorted_string_list = sorted(string_list, key=lambda x: x.lower())\n",
    "print(sorted_string_list)"
   ]
  },
  {
   "cell_type": "code",
   "execution_count": null,
   "metadata": {},
   "outputs": [],
   "source": [
    "\n",
    "# 14. Create a generator which will generate runtime unique value as ABC0001, ABC0002, ABC0003…\n"
   ]
  },
  {
   "cell_type": "code",
   "execution_count": null,
   "metadata": {},
   "outputs": [],
   "source": [
    "# 15. Create a decorator to check if all input values are alpha numeric and based on it check PAN detail AAAAA1111X , rec.no first 3 chr next 5 number\n",
    "import re\n",
    "def check_alpha_numeric(func):\n",
    "    def wrapper(pan):\n",
    "        if not pan.isalnum():\n",
    "            return \"Error: Input must be alphanumeric.\"\n",
    "        if not re.match(r\"^[A-Z]{5}[0-9]{4}[A-Z]$\", pan):\n",
    "            return \"Invalid PAN format.\"\n",
    "        return func(pan)\n",
    "    return wrapper\n",
    "\n",
    "@check_alpha_numeric\n",
    "def check_pan(pan):\n",
    "    return \"Valid PAN\"\n",
    "\n",
    "# Example Usage\n",
    "print(check_pan(\"ABCDE1234F\"))  # Valid\n",
    "print(check_pan(\"AB12C3456D\"))  # Invalid\n",
    "print(check_pan(\"ABC@E1234F\"))  # Error"
   ]
  },
  {
   "cell_type": "code",
   "execution_count": null,
   "metadata": {},
   "outputs": [],
   "source": [
    "# 16. Accept 2 values from user and perform all arithmetic operations and return all\n",
    "def arithmetic_operations(a, b):\n",
    "    return {\n",
    "        \"Add\": a + b,\n",
    "        \"Sub\": a - b,\n",
    "        \"Multiply\": a * b,\n",
    "        \"Divide\": a / b if b != 0 else \"Undefined (division by zero)\",\n",
    "        \"Mod\": a % b if b != 0 else \"Undefined (modulus by zero)\",\n",
    "        \"Exp\": a ** b,\n",
    "        \"Floor Division\": a // b if b != 0 else \"Undefined (floor division by zero)\"\n",
    "    }\n",
    "# Taking user input\n",
    "a = int(input(\"Enter first number: \"))\n",
    "b = int(input(\"Enter second number: \"))\n",
    "\n",
    "results = arithmetic_operations(a, b)\n",
    "for operation, result in results.items():\n",
    "    print(f\"{operation}: {result}\")\n"
   ]
  },
  {
   "cell_type": "code",
   "execution_count": null,
   "metadata": {},
   "outputs": [
    {
     "name": "stdout",
     "output_type": "stream",
     "text": [
      "Data successfully saved to 'user_data.txt'\n"
     ]
    }
   ],
   "source": [
    "# 17. Ask user to enter any 3 input e.g name, marks , mobile_num\n",
    "# if name is with other special characters then it should not not ask for next makrs input\n",
    "# note:\n",
    "# o Create separate functions for validation of every variable\n",
    "# o Every single block should have proper exception\n",
    "# o Every function must have the docstring\n",
    "# o Once the validation is done dictionary has to be created and store the dictionary to one txt file\n",
    "\n",
    "\n",
    "def validate_name(name):\n",
    "    \"\"\"Validate name.\"\"\"\n",
    "    if not name.isalpha():\n",
    "        raise ValueError(\"Name must contain only alphabet characters.\")\n",
    "    return True\n",
    "\n",
    "def validate_marks(marks):\n",
    "    \"\"\"Validate marks.\"\"\"\n",
    "    try:\n",
    "        marks = int(marks)\n",
    "        if 0 <= marks <= 100:  # Marks should be between 0 and 100\n",
    "            return True\n",
    "        else:\n",
    "            raise ValueError(\"Marks should be between 0 and 100!\")\n",
    "    except ValueError as e:\n",
    "        print(f\"Error: {e}\")\n",
    "        return False\n",
    "    \n",
    "def validate_mobile_num(mobile_num):\n",
    "    \"\"\"Validate mobile number.\"\"\"\n",
    "    try:\n",
    "        if re.match(\"^[0-9]{10}$\", mobile_num):  # Checks if it's a 10-digit number\n",
    "            return True\n",
    "        else:\n",
    "            raise ValueError(\"Mobile number must be exactly 10 digits!\")\n",
    "    except Exception as e:\n",
    "        print(f\"Error: {e}\")\n",
    "        return False\n",
    "    \n",
    "\n",
    "import re\n",
    "\n",
    "# Main function to get user inputs and validate them\n",
    "def get_user_input():\n",
    "    \"\"\"\n",
    "    Prompts the user to input their name, marks, and mobile number.\n",
    "    Validates them and stores the data in a dictionary.\n",
    "    If validation passes, stores the data in a txt file.\n",
    "   \n",
    "    \"\"\"\n",
    "    user_data = {}\n",
    "\n",
    "    # Input name and validate\n",
    "    name = input(\"Enter your name: \")\n",
    "    if not validate_name(name):\n",
    "        print(\"Invalid name entered! Exiting the program.\")\n",
    "        return\n",
    "\n",
    "    # Input marks and validate\n",
    "    marks = input(\"Enter your marks: \")\n",
    "    if not validate_marks(marks):\n",
    "        print(\"Invalid marks entered! Exiting the program.\")\n",
    "        return\n",
    "    \n",
    "    # Input mobile number and validate\n",
    "    mobile_num = input(\"Enter your mobile number: \")\n",
    "    if not validate_mobile_num(mobile_num):\n",
    "        print(\"Invalid mobile number entered! Exiting the program.\")\n",
    "        return\n",
    "\n",
    "    # Store validated data in the dictionary\n",
    "    user_data[\"Name\"] = name\n",
    "    user_data[\"Marks\"] = marks\n",
    "    user_data[\"Mobile Number\"] = mobile_num\n",
    "\n",
    "    # Save the data to a text file\n",
    "    try:\n",
    "        with open(\"user_data.txt\", \"w\") as file:\n",
    "            file.write(str(user_data))\n",
    "        print(\"Data successfully saved to 'user_data.txt'\")\n",
    "    except Exception as e:\n",
    "        print(f\"Error saving data: {e}\")\n",
    "\n",
    "if __name__ == \"__main__\":\n",
    "    get_user_input()"
   ]
  },
  {
   "cell_type": "code",
   "execution_count": null,
   "metadata": {},
   "outputs": [],
   "source": [
    "# 18. Segregate file in small , medium and large size in different folder\n",
    "# o filesize less than and equal to 10KB is small file\n",
    "# o filesize more than 10 KB is the medium file\n",
    "# o filesize more than 40 kb is the large file\n",
    "# o create the log file\n",
    "\n",
    "import logging\n",
    "\n",
    "logging.basicConfig(filename='file_segregation.log', level=logging.INFO)\n",
    "import os\n",
    "import shutil\n",
    "\n",
    "files = os.listdir(\"E:\\\\OneDrive\\\\Desktop\\\\Biz_notes\\\\\")\n",
    "print(f\"Files: {files}\")\n",
    "\n",
    "for i in files:\n",
    "    filename = \"e:\\\\OneDrive\\\\Desktop\\\\Biz_notes\\\\\"+i\n",
    "    sz = os.stat(filename).st_size / 1000\n",
    "\n",
    "    print(filename, sz, \"kb\")\n",
    "    logging.info(f\"File {filename} size: {sz} kb\")\n",
    "\n",
    "    try:\n",
    "        if sz <= 10:\n",
    "            shutil.copy(filename, \"D:\\\\BIZMETRIC\\\\VS CODE\\\\Biz_notes\\\\small\\\\\")\n",
    "            print(\"Copy: -> small\")\n",
    "            logging.info(f\"File {filename} copied to small folder\")\n",
    "        elif 10 < sz <= 40:\n",
    "            shutil.copy(filename, \"D:\\\\BIZMETRIC\\\\VS CODE\\\\Biz_notes\\\\medium\\\\\")\n",
    "            print(\"Copy: -> medium\")\n",
    "            logging.info(f\"File {filename} copied to medium folder\")\n",
    "        else:\n",
    "            shutil.copy(filename, \"D:\\\\BIZMETRIC\\\\VS CODE\\\\Biz_notes\\\\large\\\\\")\n",
    "            print(\"Copy: -> large folder\")\n",
    "            logging.info(f\"File {filename} copied to large folder\")\n",
    "    except Exception as e:\n",
    "        print(f\"Error copying {filename}: {e}\")\n",
    "        logging.error(f\"Error copying {filename}: {e}\")\n"
   ]
  },
  {
   "cell_type": "code",
   "execution_count": null,
   "metadata": {},
   "outputs": [],
   "source": [
    "# 20. Ask user to enter the valid file path and check which word is having more repetition in the file"
   ]
  },
  {
   "cell_type": "code",
   "execution_count": 3,
   "metadata": {},
   "outputs": [
    {
     "name": "stdout",
     "output_type": "stream",
     "text": [
      "Name: John\n",
      "Age: 30\n",
      "City: New York\n"
     ]
    }
   ],
   "source": [
    "# 23. Based on logic mentioned in question number 8 create the class\n",
    "class DictionaryDisplay:\n",
    "    def __init__(self, dictionary):\n",
    "        self.dictionary = dictionary\n",
    "    \n",
    "    def display_values(self):\n",
    "        for key, value in self.dictionary.items():\n",
    "            print(f\"{key}: {value}\")\n",
    "\n",
    "\n",
    "my_dict = {\"Name\": \"John\", \"Age\": 30, \"City\": \"New York\"}\n",
    "display = DictionaryDisplay(my_dict)\n",
    "display.display_values()\n",
    "\n"
   ]
  },
  {
   "cell_type": "code",
   "execution_count": null,
   "metadata": {},
   "outputs": [],
   "source": [
    "# 24. Ask user to enter the folder path. Folder may contain more than one file and with different extensions. Read only text file and return the more repetitive word"
   ]
  },
  {
   "cell_type": "code",
   "execution_count": null,
   "metadata": {},
   "outputs": [],
   "source": [
    "# 25. Create a class for file reading"
   ]
  },
  {
   "cell_type": "code",
   "execution_count": null,
   "metadata": {},
   "outputs": [],
   "source": [
    "# 26. Create a function which will accept the dictionary. Dictionary may have values any date type format. If values are in integer or float then return respective key"
   ]
  },
  {
   "cell_type": "code",
   "execution_count": null,
   "metadata": {},
   "outputs": [],
   "source": [
    "# 27. Create one decorator having exception logic inside it and create another function which will refer to the decorator in case of errors\n",
    "# e.g val_name is the function validating name but customized error should be thrown from decorator"
   ]
  },
  {
   "cell_type": "code",
   "execution_count": null,
   "metadata": {},
   "outputs": [],
   "source": [
    "# 28. Create a class User. User will be instantiated based on key available in the dictionary. If dictionary is not having the key then generate error. If dictionary is having the key then display values against the same."
   ]
  },
  {
   "cell_type": "code",
   "execution_count": null,
   "metadata": {},
   "outputs": [
    {
     "name": "stdout",
     "output_type": "stream",
     "text": [
      "Bill:\n",
      "panD: ₹10.0\n",
      "Total Bill: ₹10.0\n"
     ]
    }
   ],
   "source": [
    "# 29. Create a class pharma. One user A will enter the medicine name and price.\n",
    "# Another user B will generate the bill based on entry done by the first user\n",
    "\n",
    "class Pharma:\n",
    "    def __init__(self):\n",
    "        self.medicines = {}\n",
    "\n",
    "    def enter_medicine(self):\n",
    "        \"\"\"USER A ENTERS DETAILS\"\"\"\n",
    "        name = input(\"Enter medicine name: \")\n",
    "        price = float(input(\"Enter price: \"))\n",
    "        self.medicines[name] = price\n",
    "\n",
    "    def generate_bill(self):\n",
    "        \"\"\"USER B WILL GENERATE BILL\"\"\"\"\n",
    "        if not self.medicines:\n",
    "            print(\"No medicines entered.\")\n",
    "        else:\n",
    "            total = 0\n",
    "            print(\"Bill:\")\n",
    "            for name, price in self.medicines.items():\n",
    "                print(f\"{name}: ₹{price}\")\n",
    "                total += price\n",
    "            print(f\"Total Bill: ₹{total}\")\n",
    "\n",
    "\n",
    "pharma_store = Pharma()\n",
    "\n",
    "# User A enters \n",
    "pharma_store.enter_medicine()\n",
    "\n",
    "# User B\n",
    "pharma_store.generate_bill()"
   ]
  },
  {
   "cell_type": "code",
   "execution_count": null,
   "metadata": {},
   "outputs": [],
   "source": [
    "\n",
    "# 30. Read the file if the file contains number, then return the dictionary based on position and values of the number.\n"
   ]
  },
  {
   "cell_type": "code",
   "execution_count": null,
   "metadata": {},
   "outputs": [],
   "source": [
    "\n",
    "# 31. Create a class for file reading file if the file contains number, then return the dictionary based on user object, having sub dictionary position and values of the number against that user file."
   ]
  },
  {
   "cell_type": "code",
   "execution_count": 4,
   "metadata": {},
   "outputs": [
    {
     "name": "stdout",
     "output_type": "stream",
     "text": [
      "Nam (nam@gmail.com) registered successfully.\n",
      "Nam signed in.\n",
      "Nam is studying.\n",
      "Nam signed out.\n",
      "Dr.Amey (bob@example.com) registered successfully.\n",
      "Dr.Amey signed in.\n",
      "Dr.Amey is teaching.\n",
      "Dr.Amey signed out.\n",
      "Admin jay (jay@gmail.com) registered successfully.\n",
      "Admin jay signed in.\n",
      "Admin jay is managing the system.\n",
      "Admin jay signed out.\n"
     ]
    }
   ],
   "source": [
    "# 32. In hotel booking portal, user will enter pan card name and mobile number, store the same information into dictionary after successful booking user will get confirmation number.\n",
    "\n",
    "class User:\n",
    "    def __init__(self, name, email):\n",
    "        self.name = name\n",
    "        self.email = email\n",
    "    \n",
    "    def register(self):\n",
    "        print(f\"{self.name} ({self.email}) registered successfully.\")\n",
    "    \n",
    "    def sign_in(self):\n",
    "        print(f\"{self.name} signed in.\")\n",
    "    \n",
    "    def sign_out(self):\n",
    "        print(f\"{self.name} signed out.\")\n",
    "\n",
    "# Subclasses inheriting from User\n",
    "class Student(User):\n",
    "    def study(self):\n",
    "        print(f\"{self.name} is studying.\")\n",
    "\n",
    "class Professor(User):\n",
    "    def teach(self):\n",
    "        print(f\"{self.name} is teaching.\")\n",
    "\n",
    "class Admin(User):\n",
    "    def manage(self):\n",
    "        print(f\"{self.name} is managing the system.\")\n",
    "\n",
    "# Example usage\n",
    "student = Student(\"Nam\", \"nam@gmail.com\")\n",
    "student.register()\n",
    "student.sign_in()\n",
    "student.study()\n",
    "student.sign_out()\n",
    "\n",
    "professor = Professor(\"Dr.Amey\", \"bob@example.com\")\n",
    "professor.register()\n",
    "professor.sign_in()\n",
    "professor.teach()\n",
    "professor.sign_out()\n",
    "\n",
    "admin = Admin(\"Admin jay\", \"jay@gmail.com\")\n",
    "admin.register()\n",
    "admin.sign_in()\n",
    "admin.manage()\n",
    "admin.sign_out()\n"
   ]
  },
  {
   "cell_type": "code",
   "execution_count": 2,
   "metadata": {},
   "outputs": [
    {
     "name": "stdout",
     "output_type": "stream",
     "text": [
      "User registered.\n",
      "User signed in.\n",
      "User signed out.\n"
     ]
    }
   ],
   "source": [
    "# 33. Create a super class user. Having methods register, sing in, sign out. Super class can be inherited by student, professor, admin\n",
    "# Admin and students can view the marks and professor can enter the marks\n",
    "# But marks can be visible to students on the given result date\n",
    "\n",
    "class User:\n",
    "    def register(self): print(\"User registered.\")\n",
    "    def sign_in(self): print(\"User signed in.\")\n",
    "    def sign_out(self): print(\"User signed out.\")\n",
    "\n",
    "class Student(User): pass\n",
    "class Professor(User): pass\n",
    "class Admin(User): pass\n",
    "\n",
    "s = Student()\n",
    "s.register()\n",
    "s.sign_in()\n",
    "s.sign_out()\n"
   ]
  },
  {
   "cell_type": "code",
   "execution_count": 1,
   "metadata": {},
   "outputs": [
    {
     "name": "stdout",
     "output_type": "stream",
     "text": [
      "Namita uploaded resume: Namita_resume.pdf\n",
      "Employer is viewing Namita's resume: Namita_resume.pdf\n"
     ]
    }
   ],
   "source": [
    "# 34. Create suitable classes, methods and attributes for resume exchange. Employee to upload the file and the same file is visible to employer\n",
    "\n",
    "class Employee:\n",
    "    def __init__(self, name):\n",
    "        self.name = name\n",
    "        self.resume = None\n",
    "\n",
    "    def upload_resume(self, file_name):\n",
    "        self.resume = file_name\n",
    "        print(f\"{self.name} uploaded resume: {file_name}\")\n",
    "\n",
    "class Employer:\n",
    "    def view_resume(self, employee):\n",
    "        if employee.resume:\n",
    "            print(f\"Employer is viewing {employee.name}'s resume: {employee.resume}\")\n",
    "        else:\n",
    "            print(f\"No resume found for {employee.name}\")\n",
    "\n",
    "emp = Employee(\"Namita\")\n",
    "emp.upload_resume(\"Namita_resume.pdf\")\n",
    "employer = Employer()\n",
    "employer.view_resume(emp)"
   ]
  },
  {
   "cell_type": "code",
   "execution_count": null,
   "metadata": {},
   "outputs": [],
   "source": [
    "\n",
    "# 35. Perform the database connectivity and save all employee details in the database\n",
    "# Like name, mobile, address"
   ]
  }
 ],
 "metadata": {
  "kernelspec": {
   "display_name": "Python 3",
   "language": "python",
   "name": "python3"
  },
  "language_info": {
   "codemirror_mode": {
    "name": "ipython",
    "version": 3
   },
   "file_extension": ".py",
   "mimetype": "text/x-python",
   "name": "python",
   "nbconvert_exporter": "python",
   "pygments_lexer": "ipython3",
   "version": "3.11.9"
  }
 },
 "nbformat": 4,
 "nbformat_minor": 2
}
