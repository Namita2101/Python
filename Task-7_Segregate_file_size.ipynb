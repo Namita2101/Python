{
 "cells": [
  {
   "cell_type": "markdown",
   "metadata": {},
   "source": [
    "* Create a logic to segregate folders based on file size. Make 3 folders small size, middle size , large size folder and transfer the files to respective folders.*"
   ]
  },
  {
   "cell_type": "code",
   "execution_count": null,
   "metadata": {},
   "outputs": [],
   "source": [
    "import os\n",
    "import shutil\n",
    "files = os.listdir(\"E:\\\\OneDrive\\\\Desktop\\\\Biz_notes\\\\\")\n",
    "print(f\"Files: {files}\")\n",
    "\n",
    "for i in files:\n",
    "    filename = \"e:\\\\OneDrive\\\\Desktop\\\\Biz_notes\\\\\"+i\n",
    "    sz = os.stat(filename).st_size / 1000\n",
    "\n",
    "    print(filename, sz, \"kb\")\n",
    "\n",
    "    if sz <= 100:\n",
    "                shutil.copy(filename,\"D:\\\\BIZMETRIC\\\\VS CODE\\\\Biz_notes\\\\small\\\\\")\n",
    "                print(\"Copy: -> small\")\n",
    "    elif 100 < sz <= 500:\n",
    "                    shutil.copy(filename,\"D:\\\\BIZMETRIC\\\\VS CODE\\\\Biz_notes\\\\medium\\\\\")\n",
    "                    print(\"Copy: -> medium\")       \n",
    "    else:\n",
    "        shutil.copy(filename,\"D:\\\\BIZMETRIC\\\\VS CODE\\\\Biz_notes\\\\large\\\\\")\n",
    "        print(\"Copy:-> large folder\")"
   ]
  }
 ],
 "metadata": {
  "kernelspec": {
   "display_name": "Python 3",
   "language": "python",
   "name": "python3"
  },
  "language_info": {
   "name": "python",
   "version": "3.11.9"
  }
 },
 "nbformat": 4,
 "nbformat_minor": 2
}
