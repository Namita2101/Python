{
 "cells": [
  {
   "cell_type": "markdown",
   "metadata": {},
   "source": [
    "* User will enter the start date and end date.Ask user to enter the task to be done on weekdays.If it is weekend then no task should be allotted."
   ]
  },
  {
   "cell_type": "code",
   "execution_count": 1,
   "metadata": {},
   "outputs": [],
   "source": [
    "from datetime import datetime\n",
    "from datetime import date\n",
    "from datetime import time"
   ]
  },
  {
   "cell_type": "code",
   "execution_count": 2,
   "metadata": {},
   "outputs": [],
   "source": [
    "from datetime import datetime\n",
    "\n",
    "# Input start and end dates\n",
    "srt_date = input(\"Enter the start date (YYYY-MM-DD): \")\n",
    "end_date = input(\"Enter the end date (YYYY-MM-DD): \")\n",
    "\n",
    "# Convert inputs to datetime objects\n",
    "srt_date = datetime.strptime(srt_date, \"%Y-%m-%d\")\n",
    "end_date = datetime.strptime(end_date, \"%Y-%m-%d\")"
   ]
  },
  {
   "cell_type": "code",
   "execution_count": 3,
   "metadata": {},
   "outputs": [
    {
     "name": "stdout",
     "output_type": "stream",
     "text": [
      "2025-01-08 00:00:00\n",
      "2025-01-18 00:00:00\n"
     ]
    }
   ],
   "source": [
    "print(srt_date)\n",
    "print(end_date)"
   ]
  },
  {
   "cell_type": "code",
   "execution_count": 4,
   "metadata": {},
   "outputs": [
    {
     "name": "stdout",
     "output_type": "stream",
     "text": [
      "{'2025-01-08': 'SQL', '2025-01-09': 'SQL', '2025-01-10': 'POWERBI', '2025-01-11': 'No task', '2025-01-12': 'No task', '2025-01-13': 'POWERBI', '2025-01-14': 'PYTHON', '2025-01-15': 'PYTHON', '2025-01-16': 'COMMUNICATION', '2025-01-17': 'APTITUDE', '2025-01-18': 'No task'}\n"
     ]
    }
   ],
   "source": [
    "from datetime import timedelta\n",
    "task = {}\n",
    "current_date = srt_date\n",
    "\n",
    "while current_date <= end_date:\n",
    "    if current_date.isoweekday() <= 5:\n",
    "        task[str(current_date.date())] = input(f\"Task for {current_date.date()}: \")\n",
    "    else:\n",
    "        task[str(current_date.date())] = \"No task\"\n",
    "    current_date += timedelta(days=1)\n",
    "\n",
    "print(task)\n"
   ]
  },
  {
   "cell_type": "code",
   "execution_count": null,
   "metadata": {},
   "outputs": [],
   "source": []
  }
 ],
 "metadata": {
  "kernelspec": {
   "display_name": "Python 3",
   "language": "python",
   "name": "python3"
  },
  "language_info": {
   "codemirror_mode": {
    "name": "ipython",
    "version": 3
   },
   "file_extension": ".py",
   "mimetype": "text/x-python",
   "name": "python",
   "nbconvert_exporter": "python",
   "pygments_lexer": "ipython3",
   "version": "3.11.9"
  }
 },
 "nbformat": 4,
 "nbformat_minor": 2
}
