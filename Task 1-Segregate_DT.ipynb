{
 "cells": [
  {
   "cell_type": "markdown",
   "metadata": {},
   "source": [
    "* Create the list of mix element by asking user to enter the values. Segregate the mixed data type list into two different list"
   ]
  },
  {
   "cell_type": "code",
   "execution_count": 5,
   "metadata": {},
   "outputs": [
    {
     "name": "stdout",
     "output_type": "stream",
     "text": [
      "String: ['nam', 'c']\n",
      "Integer: [1, 2, 3]\n",
      "Tuple: [[4, 5, 6]]\n",
      "string: [(1, 2, 3, 'dog')]\n"
     ]
    }
   ],
   "source": [
    "a2 = [\"nam\", 1, 2, 3, [4, 5, 6], 'c',(1,2,3,\"dog\")]\n",
    "l_char = []\n",
    "l_num = []\n",
    "l_list = []\n",
    "l_tup= []\n",
    "\n",
    "for i in a2:\n",
    "    if type(i) == int:\n",
    "        l_num.append(i)\n",
    "    elif type(i) == str:\n",
    "        l_char.append(i)\n",
    "    elif type(i) == list:\n",
    "        l_list.append(i)\n",
    "    elif type(i) == tuple:\n",
    "        l_tup.append(i)\n",
    "\n",
    "# l_char\n",
    "print(\"String:\",l_char)\n",
    "print(\"Integer:\",l_num)\n",
    "print(\"Tuple:\",l_list)\n",
    "print(\"string:\",l_tup)"
   ]
  },
  {
   "cell_type": "code",
   "execution_count": null,
   "metadata": {},
   "outputs": [],
   "source": []
  }
 ],
 "metadata": {
  "kernelspec": {
   "display_name": "Python 3",
   "language": "python",
   "name": "python3"
  },
  "language_info": {
   "codemirror_mode": {
    "name": "ipython",
    "version": 3
   },
   "file_extension": ".py",
   "mimetype": "text/x-python",
   "name": "python",
   "nbconvert_exporter": "python",
   "pygments_lexer": "ipython3",
   "version": "3.11.9"
  }
 },
 "nbformat": 4,
 "nbformat_minor": 2
}
