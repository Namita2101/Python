{
 "cells": [
  {
   "cell_type": "markdown",
   "metadata": {},
   "source": [
    "*Que. 3)*\n",
    "*Generate the bill with proper format to create the bill file. User may enter more than 1 element*"
   ]
  },
  {
   "cell_type": "code",
   "execution_count": 7,
   "metadata": {},
   "outputs": [
    {
     "name": "stdout",
     "output_type": "stream",
     "text": [
      "Enter quantities (0 to skip):\n"
     ]
    },
    {
     "name": "stdout",
     "output_type": "stream",
     "text": [
      "\n",
      "Sr.   Item Description          Quantity   Price      Total     \n",
      "============================================================\n",
      "1     Solar Panel Model X1      5          250.00     1250.00   \n",
      "2     Inverter Model Y2         6          450.00     2700.00   \n",
      "3     Battery Model Z3          7          150.00     1050.00   \n",
      "============================================================\n",
      "Grand Total:                                       5000.00   \n"
     ]
    }
   ],
   "source": [
    "items = [\n",
    "    {\"description\": \"Solar Panel Model X1\", \"price\": 250.00},\n",
    "    {\"description\": \"Inverter Model Y2\", \"price\": 450.00},\n",
    "    {\"description\": \"Battery Model Z3\", \"price\": 150.00}\n",
    "]\n",
    "\n",
    "print(\"Enter quantities (0 to skip):\")\n",
    "selected_items = [  # Only keep items the customer wants\n",
    "    {**item, \"quantity\": q} for item in items if (q := int(input(f\"{item['description']}: \"))) > 0\n",
    "]\n",
    "\n",
    "if selected_items:\n",
    "    print(\"\\n{:<5} {:<25} {:<10} {:<10} {:<10}\".format(\"Sr.\", \"Item Description\", \"Quantity\", \"Price\", \"Total\"))\n",
    "    print(\"=\" * 60)\n",
    "    grand_total = sum(\n",
    "        print(\"{:<5} {:<25} {:<10} {:<10.2f} {:<10.2f}\".format(i+1, item[\"description\"], item[\"quantity\"], item[\"price\"], item[\"quantity\"] * item[\"price\"])) \n",
    "        or item[\"quantity\"] * item[\"price\"]\n",
    "        for i, item in enumerate(selected_items)\n",
    "    )\n",
    "    print(\"=\" * 60)\n",
    "    print(\"{:<50} {:<10.2f}\".format(\"Grand Total:\", grand_total))\n",
    "else:\n",
    "    print(\"No items selected. Thank you!\")\n"
   ]
  },
  {
   "cell_type": "code",
   "execution_count": null,
   "metadata": {},
   "outputs": [],
   "source": []
  }
 ],
 "metadata": {
  "kernelspec": {
   "display_name": "Python 3",
   "language": "python",
   "name": "python3"
  },
  "language_info": {
   "codemirror_mode": {
    "name": "ipython",
    "version": 3
   },
   "file_extension": ".py",
   "mimetype": "text/x-python",
   "name": "python",
   "nbconvert_exporter": "python",
   "pygments_lexer": "ipython3",
   "version": "3.11.9"
  }
 },
 "nbformat": 4,
 "nbformat_minor": 2
}
